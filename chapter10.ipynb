{
 "cells": [
  {
   "cell_type": "code",
   "execution_count": 41,
   "id": "ac351a4f-635e-4fb0-af53-5f678b91ed5b",
   "metadata": {},
   "outputs": [],
   "source": [
    "import pandas as pd\n",
    "import numpy as np\n",
    "import pickle"
   ]
  },
  {
   "cell_type": "code",
   "execution_count": 42,
   "id": "0d19f02b-a232-49e0-afed-2ef4a0940690",
   "metadata": {},
   "outputs": [],
   "source": [
    "intraday = True\n",
    "timeframe = 5\n",
    "symbol = 'ITUB4'\n",
    "\n",
    "if intraday:\n",
    "    csv_path = f'dados/{symbol}_intraday_mt5timeframe_{timeframe}.csv'\n",
    "else:\n",
    "    csv_path = f'dados/{symbol}_daily.csv'"
   ]
  },
  {
   "cell_type": "code",
   "execution_count": 43,
   "id": "8de2e840-6f0b-42f6-9d50-ff4c32370444",
   "metadata": {},
   "outputs": [],
   "source": [
    "raw = pd.read_csv(csv_path, index_col=['datetime'], parse_dates=True).dropna()"
   ]
  },
  {
   "cell_type": "code",
   "execution_count": 44,
   "id": "0febb23c-ba47-420b-b6bf-bd1445138372",
   "metadata": {},
   "outputs": [
    {
     "data": {
      "text/plain": "                           time   open   high    low  close  tick_volume  \\\ndatetime                                                                   \n2017-04-26 12:10:00  1493208600  24.17  24.19  24.15  24.15          191   \n2017-04-26 12:15:00  1493208900  24.15  24.19  24.14  24.18          178   \n2017-04-26 12:20:00  1493209200  24.17  24.19  24.17  24.19          225   \n2017-04-26 12:25:00  1493209500  24.19  24.23  24.19  24.22          378   \n2017-04-26 12:30:00  1493209800  24.20  24.22  24.19  24.22          109   \n...                         ...    ...    ...    ...    ...          ...   \n2021-10-19 17:35:00  1634664900  24.39  24.42  24.36  24.42           23   \n2021-10-19 17:40:00  1634665200  24.40  24.44  24.40  24.42           19   \n2021-10-19 17:45:00  1634665500  24.44  24.45  24.36  24.36           30   \n2021-10-19 17:50:00  1634665800  24.36  24.43  24.36  24.43           13   \n2021-10-19 17:55:00  1634666100  24.44  24.45  24.35  24.35           33   \n\n                     spread  real_volume  \ndatetime                                  \n2017-04-26 12:10:00       1        40000  \n2017-04-26 12:15:00       1        56200  \n2017-04-26 12:20:00       1       115700  \n2017-04-26 12:25:00       1       147300  \n2017-04-26 12:30:00       1        32400  \n...                     ...          ...  \n2021-10-19 17:35:00       1        13600  \n2021-10-19 17:40:00       1        15500  \n2021-10-19 17:45:00       1        10500  \n2021-10-19 17:50:00       1         3600  \n2021-10-19 17:55:00       1        18000  \n\n[100446 rows x 8 columns]",
      "text/html": "<div>\n<style scoped>\n    .dataframe tbody tr th:only-of-type {\n        vertical-align: middle;\n    }\n\n    .dataframe tbody tr th {\n        vertical-align: top;\n    }\n\n    .dataframe thead th {\n        text-align: right;\n    }\n</style>\n<table border=\"1\" class=\"dataframe\">\n  <thead>\n    <tr style=\"text-align: right;\">\n      <th></th>\n      <th>time</th>\n      <th>open</th>\n      <th>high</th>\n      <th>low</th>\n      <th>close</th>\n      <th>tick_volume</th>\n      <th>spread</th>\n      <th>real_volume</th>\n    </tr>\n    <tr>\n      <th>datetime</th>\n      <th></th>\n      <th></th>\n      <th></th>\n      <th></th>\n      <th></th>\n      <th></th>\n      <th></th>\n      <th></th>\n    </tr>\n  </thead>\n  <tbody>\n    <tr>\n      <th>2017-04-26 12:10:00</th>\n      <td>1493208600</td>\n      <td>24.17</td>\n      <td>24.19</td>\n      <td>24.15</td>\n      <td>24.15</td>\n      <td>191</td>\n      <td>1</td>\n      <td>40000</td>\n    </tr>\n    <tr>\n      <th>2017-04-26 12:15:00</th>\n      <td>1493208900</td>\n      <td>24.15</td>\n      <td>24.19</td>\n      <td>24.14</td>\n      <td>24.18</td>\n      <td>178</td>\n      <td>1</td>\n      <td>56200</td>\n    </tr>\n    <tr>\n      <th>2017-04-26 12:20:00</th>\n      <td>1493209200</td>\n      <td>24.17</td>\n      <td>24.19</td>\n      <td>24.17</td>\n      <td>24.19</td>\n      <td>225</td>\n      <td>1</td>\n      <td>115700</td>\n    </tr>\n    <tr>\n      <th>2017-04-26 12:25:00</th>\n      <td>1493209500</td>\n      <td>24.19</td>\n      <td>24.23</td>\n      <td>24.19</td>\n      <td>24.22</td>\n      <td>378</td>\n      <td>1</td>\n      <td>147300</td>\n    </tr>\n    <tr>\n      <th>2017-04-26 12:30:00</th>\n      <td>1493209800</td>\n      <td>24.20</td>\n      <td>24.22</td>\n      <td>24.19</td>\n      <td>24.22</td>\n      <td>109</td>\n      <td>1</td>\n      <td>32400</td>\n    </tr>\n    <tr>\n      <th>...</th>\n      <td>...</td>\n      <td>...</td>\n      <td>...</td>\n      <td>...</td>\n      <td>...</td>\n      <td>...</td>\n      <td>...</td>\n      <td>...</td>\n    </tr>\n    <tr>\n      <th>2021-10-19 17:35:00</th>\n      <td>1634664900</td>\n      <td>24.39</td>\n      <td>24.42</td>\n      <td>24.36</td>\n      <td>24.42</td>\n      <td>23</td>\n      <td>1</td>\n      <td>13600</td>\n    </tr>\n    <tr>\n      <th>2021-10-19 17:40:00</th>\n      <td>1634665200</td>\n      <td>24.40</td>\n      <td>24.44</td>\n      <td>24.40</td>\n      <td>24.42</td>\n      <td>19</td>\n      <td>1</td>\n      <td>15500</td>\n    </tr>\n    <tr>\n      <th>2021-10-19 17:45:00</th>\n      <td>1634665500</td>\n      <td>24.44</td>\n      <td>24.45</td>\n      <td>24.36</td>\n      <td>24.36</td>\n      <td>30</td>\n      <td>1</td>\n      <td>10500</td>\n    </tr>\n    <tr>\n      <th>2021-10-19 17:50:00</th>\n      <td>1634665800</td>\n      <td>24.36</td>\n      <td>24.43</td>\n      <td>24.36</td>\n      <td>24.43</td>\n      <td>13</td>\n      <td>1</td>\n      <td>3600</td>\n    </tr>\n    <tr>\n      <th>2021-10-19 17:55:00</th>\n      <td>1634666100</td>\n      <td>24.44</td>\n      <td>24.45</td>\n      <td>24.35</td>\n      <td>24.35</td>\n      <td>33</td>\n      <td>1</td>\n      <td>18000</td>\n    </tr>\n  </tbody>\n</table>\n<p>100446 rows × 8 columns</p>\n</div>"
     },
     "execution_count": 44,
     "metadata": {},
     "output_type": "execute_result"
    }
   ],
   "source": [
    "raw"
   ]
  },
  {
   "cell_type": "code",
   "execution_count": 45,
   "id": "352fb1b1-2ea1-4eac-9365-bac3e4146e0e",
   "metadata": {},
   "outputs": [],
   "source": [
    "raw = pd.DataFrame(raw[['open', 'high', 'low', 'close', 'real_volume']])\n",
    "raw.rename(columns={'real_volume': 'volume'}, inplace=True)"
   ]
  },
  {
   "cell_type": "code",
   "execution_count": 46,
   "id": "943dca25-6973-4719-a5c0-c574596225c6",
   "metadata": {},
   "outputs": [
    {
     "data": {
      "text/plain": "                      open   high    low  close  volume\ndatetime                                               \n2017-04-26 12:10:00  24.17  24.19  24.15  24.15   40000\n2017-04-26 12:15:00  24.15  24.19  24.14  24.18   56200\n2017-04-26 12:20:00  24.17  24.19  24.17  24.19  115700\n2017-04-26 12:25:00  24.19  24.23  24.19  24.22  147300\n2017-04-26 12:30:00  24.20  24.22  24.19  24.22   32400\n...                    ...    ...    ...    ...     ...\n2021-10-19 17:35:00  24.39  24.42  24.36  24.42   13600\n2021-10-19 17:40:00  24.40  24.44  24.40  24.42   15500\n2021-10-19 17:45:00  24.44  24.45  24.36  24.36   10500\n2021-10-19 17:50:00  24.36  24.43  24.36  24.43    3600\n2021-10-19 17:55:00  24.44  24.45  24.35  24.35   18000\n\n[100446 rows x 5 columns]",
      "text/html": "<div>\n<style scoped>\n    .dataframe tbody tr th:only-of-type {\n        vertical-align: middle;\n    }\n\n    .dataframe tbody tr th {\n        vertical-align: top;\n    }\n\n    .dataframe thead th {\n        text-align: right;\n    }\n</style>\n<table border=\"1\" class=\"dataframe\">\n  <thead>\n    <tr style=\"text-align: right;\">\n      <th></th>\n      <th>open</th>\n      <th>high</th>\n      <th>low</th>\n      <th>close</th>\n      <th>volume</th>\n    </tr>\n    <tr>\n      <th>datetime</th>\n      <th></th>\n      <th></th>\n      <th></th>\n      <th></th>\n      <th></th>\n    </tr>\n  </thead>\n  <tbody>\n    <tr>\n      <th>2017-04-26 12:10:00</th>\n      <td>24.17</td>\n      <td>24.19</td>\n      <td>24.15</td>\n      <td>24.15</td>\n      <td>40000</td>\n    </tr>\n    <tr>\n      <th>2017-04-26 12:15:00</th>\n      <td>24.15</td>\n      <td>24.19</td>\n      <td>24.14</td>\n      <td>24.18</td>\n      <td>56200</td>\n    </tr>\n    <tr>\n      <th>2017-04-26 12:20:00</th>\n      <td>24.17</td>\n      <td>24.19</td>\n      <td>24.17</td>\n      <td>24.19</td>\n      <td>115700</td>\n    </tr>\n    <tr>\n      <th>2017-04-26 12:25:00</th>\n      <td>24.19</td>\n      <td>24.23</td>\n      <td>24.19</td>\n      <td>24.22</td>\n      <td>147300</td>\n    </tr>\n    <tr>\n      <th>2017-04-26 12:30:00</th>\n      <td>24.20</td>\n      <td>24.22</td>\n      <td>24.19</td>\n      <td>24.22</td>\n      <td>32400</td>\n    </tr>\n    <tr>\n      <th>...</th>\n      <td>...</td>\n      <td>...</td>\n      <td>...</td>\n      <td>...</td>\n      <td>...</td>\n    </tr>\n    <tr>\n      <th>2021-10-19 17:35:00</th>\n      <td>24.39</td>\n      <td>24.42</td>\n      <td>24.36</td>\n      <td>24.42</td>\n      <td>13600</td>\n    </tr>\n    <tr>\n      <th>2021-10-19 17:40:00</th>\n      <td>24.40</td>\n      <td>24.44</td>\n      <td>24.40</td>\n      <td>24.42</td>\n      <td>15500</td>\n    </tr>\n    <tr>\n      <th>2021-10-19 17:45:00</th>\n      <td>24.44</td>\n      <td>24.45</td>\n      <td>24.36</td>\n      <td>24.36</td>\n      <td>10500</td>\n    </tr>\n    <tr>\n      <th>2021-10-19 17:50:00</th>\n      <td>24.36</td>\n      <td>24.43</td>\n      <td>24.36</td>\n      <td>24.43</td>\n      <td>3600</td>\n    </tr>\n    <tr>\n      <th>2021-10-19 17:55:00</th>\n      <td>24.44</td>\n      <td>24.45</td>\n      <td>24.35</td>\n      <td>24.35</td>\n      <td>18000</td>\n    </tr>\n  </tbody>\n</table>\n<p>100446 rows × 5 columns</p>\n</div>"
     },
     "execution_count": 46,
     "metadata": {},
     "output_type": "execute_result"
    }
   ],
   "source": [
    "raw"
   ]
  },
  {
   "cell_type": "code",
   "execution_count": 47,
   "id": "d25aa8c7-5483-402e-a5b8-af424c7efed9",
   "metadata": {},
   "outputs": [],
   "source": [
    "mean = raw['close'].mean()"
   ]
  },
  {
   "cell_type": "code",
   "execution_count": 48,
   "id": "4489ae5b-3db5-46e4-a587-bd82a6dcb062",
   "metadata": {},
   "outputs": [
    {
     "data": {
      "text/plain": "<Figure size 720x432 with 1 Axes>",
      "image/png": "[encoded data removed]"
     },
     "metadata": {
      "needs_background": "light"
     },
     "output_type": "display_data"
    }
   ],
   "source": [
    "raw['close'].plot(figsize=(10, 6), legend=True);"
   ]
  },
  {
   "cell_type": "code",
   "execution_count": 49,
   "id": "f2435843-a55f-4e57-b163-a6ba178545bf",
   "metadata": {},
   "outputs": [],
   "source": [
    "data = pd.DataFrame(raw['close'])"
   ]
  },
  {
   "cell_type": "code",
   "execution_count": 50,
   "id": "f21f8e8b-98de-416d-96ac-539cd6fd0ba1",
   "metadata": {},
   "outputs": [],
   "source": [
    "window = 5\n",
    "data['return'] = np.log(data / data.shift(1))\n",
    "data['vol'] = data['return'].rolling(window).std()\n",
    "data['mom'] = np.sign(data['return'].rolling(window).mean())\n",
    "data['sma'] = data['close'].rolling(window).mean()\n",
    "data['min'] = data['close'].rolling(window).min()\n",
    "data['max'] = data['close'].rolling(window).max()"
   ]
  },
  {
   "cell_type": "code",
   "execution_count": 51,
   "id": "292f4a48-b001-4f5c-9ef0-79365dbf6403",
   "metadata": {},
   "outputs": [],
   "source": [
    "data.dropna(inplace = True)"
   ]
  },
  {
   "cell_type": "code",
   "execution_count": 52,
   "id": "e91da1fa-f818-4263-8abd-90fb25516434",
   "metadata": {},
   "outputs": [],
   "source": [
    "lags = 3"
   ]
  },
  {
   "cell_type": "code",
   "execution_count": 53,
   "id": "d6ac1e71-c36e-4b5c-8262-1a0af8a23b17",
   "metadata": {},
   "outputs": [],
   "source": [
    "features = ['return', 'vol', 'mom', 'sma', 'min', 'max']"
   ]
  },
  {
   "cell_type": "code",
   "execution_count": 54,
   "id": "01206c02-add1-4102-9051-c769a5e972b6",
   "metadata": {},
   "outputs": [],
   "source": [
    "cols = []\n",
    "for f in features:\n",
    "    for lag in range(1, lags + 1):\n",
    "        col = f'{f}_lag_{lag}'\n",
    "        data[col] = data[f].shift(lag)\n",
    "        cols.append(col)"
   ]
  },
  {
   "cell_type": "code",
   "execution_count": null,
   "outputs": [],
   "source": [
    "cols"
   ],
   "metadata": {
    "collapsed": false,
    "pycharm": {
     "name": "#%%\n"
    }
   }
  },
  {
   "cell_type": "code",
   "execution_count": 55,
   "id": "75f9373f-f0e8-40fe-889b-dc4b068dc91b",
   "metadata": {},
   "outputs": [],
   "source": [
    "data.dropna(inplace = True)"
   ]
  },
  {
   "cell_type": "code",
   "execution_count": 56,
   "id": "6625ddae-1efc-44c5-a101-9631eccc2071",
   "metadata": {},
   "outputs": [],
   "source": [
    "data['direction'] = np.where(data['return'] > 0, 1, -1)"
   ]
  },
  {
   "cell_type": "code",
   "execution_count": 57,
   "id": "17a7b7e8-b95d-4d70-ad59-f939efdb64b5",
   "metadata": {},
   "outputs": [
    {
     "data": {
      "text/plain": "                     return_lag_1  return_lag_2  return_lag_3\ndatetime                                                     \n2017-04-26 12:50:00     -0.002486     -0.000827     -0.001239\n2017-04-26 12:55:00      0.000000     -0.002486     -0.000827\n2017-04-26 13:00:00      0.000000      0.000000     -0.002486",
      "text/html": "<div>\n<style scoped>\n    .dataframe tbody tr th:only-of-type {\n        vertical-align: middle;\n    }\n\n    .dataframe tbody tr th {\n        vertical-align: top;\n    }\n\n    .dataframe thead th {\n        text-align: right;\n    }\n</style>\n<table border=\"1\" class=\"dataframe\">\n  <thead>\n    <tr style=\"text-align: right;\">\n      <th></th>\n      <th>return_lag_1</th>\n      <th>return_lag_2</th>\n      <th>return_lag_3</th>\n    </tr>\n    <tr>\n      <th>datetime</th>\n      <th></th>\n      <th></th>\n      <th></th>\n    </tr>\n  </thead>\n  <tbody>\n    <tr>\n      <th>2017-04-26 12:50:00</th>\n      <td>-0.002486</td>\n      <td>-0.000827</td>\n      <td>-0.001239</td>\n    </tr>\n    <tr>\n      <th>2017-04-26 12:55:00</th>\n      <td>0.000000</td>\n      <td>-0.002486</td>\n      <td>-0.000827</td>\n    </tr>\n    <tr>\n      <th>2017-04-26 13:00:00</th>\n      <td>0.000000</td>\n      <td>0.000000</td>\n      <td>-0.002486</td>\n    </tr>\n  </tbody>\n</table>\n</div>"
     },
     "execution_count": 57,
     "metadata": {},
     "output_type": "execute_result"
    }
   ],
   "source": [
    "data[cols].iloc[:lags, :lags]"
   ]
  },
  {
   "cell_type": "code",
   "execution_count": 58,
   "id": "2c4ea1ce-3059-4de3-ad6e-bfb50d4abc90",
   "metadata": {},
   "outputs": [],
   "source": [
    "from sklearn.metrics import accuracy_score\n",
    "from sklearn.tree import DecisionTreeClassifier\n",
    "from sklearn.ensemble import AdaBoostClassifier"
   ]
  },
  {
   "cell_type": "code",
   "execution_count": 59,
   "id": "7e52a27a-8509-4f12-b61a-6b63812cdefa",
   "metadata": {},
   "outputs": [],
   "source": [
    "n_estimators = 15\n",
    "random_state = 100\n",
    "max_depth = 2\n",
    "min_samples_leaf = 15\n",
    "subsample = 0.33"
   ]
  },
  {
   "cell_type": "code",
   "execution_count": 60,
   "id": "e0c4c6f6-a439-42ed-ab36-185b2f9e2680",
   "metadata": {},
   "outputs": [],
   "source": [
    "dtc = DecisionTreeClassifier(random_state = random_state,\n",
    "                            max_depth = max_depth,\n",
    "                            min_samples_leaf = min_samples_leaf)"
   ]
  },
  {
   "cell_type": "code",
   "execution_count": 61,
   "id": "27529421-39bf-4f83-a524-be5d7b53045b",
   "metadata": {},
   "outputs": [],
   "source": [
    "model = AdaBoostClassifier(base_estimator = dtc,\n",
    "                          n_estimators = n_estimators,\n",
    "                          random_state = random_state)"
   ]
  },
  {
   "cell_type": "code",
   "execution_count": 62,
   "id": "aeef9f07-faab-482a-b601-dd49374e6c3e",
   "metadata": {},
   "outputs": [],
   "source": [
    "split = int(len(data) * 0.7)"
   ]
  },
  {
   "cell_type": "code",
   "execution_count": 63,
   "id": "9fdb5058-4646-4ca4-bc7a-f535babddf61",
   "metadata": {},
   "outputs": [],
   "source": [
    "train = data.iloc[:split].copy()"
   ]
  },
  {
   "cell_type": "code",
   "execution_count": 64,
   "id": "1e9e2781-69c2-407b-82da-3426528c3b2a",
   "metadata": {},
   "outputs": [],
   "source": [
    "mu, std = train.mean(), train.std()"
   ]
  },
  {
   "cell_type": "code",
   "execution_count": 65,
   "id": "530a325b-fb6b-458d-95b1-504a208e44dc",
   "metadata": {},
   "outputs": [],
   "source": [
    "train_ = (train - mu) / std"
   ]
  },
  {
   "cell_type": "code",
   "execution_count": 66,
   "id": "d48a44ff-3b56-46cf-a943-ce89e592dcfb",
   "metadata": {},
   "outputs": [
    {
     "data": {
      "text/plain": "AdaBoostClassifier(base_estimator=DecisionTreeClassifier(max_depth=2,\n                                                         min_samples_leaf=15,\n                                                         random_state=100),\n                   n_estimators=15, random_state=100)"
     },
     "execution_count": 66,
     "metadata": {},
     "output_type": "execute_result"
    }
   ],
   "source": [
    "model.fit(train_[cols], train['direction'])"
   ]
  },
  {
   "cell_type": "code",
   "execution_count": 67,
   "id": "5e65b80e-66c4-4825-b42b-e550ed3103aa",
   "metadata": {},
   "outputs": [
    {
     "data": {
      "text/plain": "0.5680596250675618"
     },
     "execution_count": 67,
     "metadata": {},
     "output_type": "execute_result"
    }
   ],
   "source": [
    "accuracy_score(train['direction'], model.predict(train_[cols]))"
   ]
  },
  {
   "cell_type": "code",
   "execution_count": 68,
   "id": "a455311b-3587-46bc-9650-3df80f6e407b",
   "metadata": {},
   "outputs": [],
   "source": [
    "test = data.iloc[split:].copy()"
   ]
  },
  {
   "cell_type": "code",
   "execution_count": 69,
   "id": "4eac02ad-0f23-474d-bc2e-82501cbcbf7b",
   "metadata": {},
   "outputs": [],
   "source": [
    "test_ = (test - mu) / std"
   ]
  },
  {
   "cell_type": "code",
   "execution_count": 70,
   "id": "4b6d1a3c-4c3c-4aa2-9729-03e428e6cd3b",
   "metadata": {},
   "outputs": [],
   "source": [
    "test['position'] = model.predict(test_[cols])"
   ]
  },
  {
   "cell_type": "code",
   "execution_count": 71,
   "id": "4208a423-c89c-473a-a4a3-3cf186492690",
   "metadata": {},
   "outputs": [
    {
     "data": {
      "text/plain": "0.5516726403823178"
     },
     "execution_count": 71,
     "metadata": {},
     "output_type": "execute_result"
    }
   ],
   "source": [
    "accuracy_score(test['direction'], test['position'])"
   ]
  },
  {
   "cell_type": "code",
   "execution_count": 72,
   "id": "b636b06a-3f63-4dce-89ab-dfd3727dea34",
   "metadata": {},
   "outputs": [],
   "source": [
    "test['strategy'] = test['position'] * test['return']"
   ]
  },
  {
   "cell_type": "code",
   "execution_count": 73,
   "id": "5397c60a-3086-4ed8-978e-96eee3e402ca",
   "metadata": {},
   "outputs": [
    {
     "data": {
      "text/plain": "4815"
     },
     "execution_count": 73,
     "metadata": {},
     "output_type": "execute_result"
    }
   ],
   "source": [
    "sum(test['position'].diff() != 0)"
   ]
  },
  {
   "cell_type": "code",
   "execution_count": 74,
   "id": "a9e6509d-86c7-48c8-ac3c-25e678838978",
   "metadata": {},
   "outputs": [
    {
     "data": {
      "text/plain": "return      0.935819\nstrategy    4.120085\ndtype: float64"
     },
     "execution_count": 74,
     "metadata": {},
     "output_type": "execute_result"
    }
   ],
   "source": [
    "test[['return', 'strategy']].sum().apply(np.exp)"
   ]
  },
  {
   "cell_type": "code",
   "execution_count": 75,
   "id": "02c2be34-c676-46db-ac2b-9b57f40c752a",
   "metadata": {},
   "outputs": [
    {
     "data": {
      "text/plain": "<Figure size 720x432 with 1 Axes>",
      "image/png": "[encoded data removed]"
     },
     "metadata": {
      "needs_background": "light"
     },
     "output_type": "display_data"
    }
   ],
   "source": [
    "test[['return', 'strategy']].cumsum().apply(np.exp).plot(figsize=(10, 6));"
   ]
  },
  {
   "cell_type": "code",
   "execution_count": 78,
   "id": "43bb323a-a484-4e09-85b9-8ba2a7881857",
   "metadata": {},
   "outputs": [],
   "source": [
    "algorithm = {'model': model, 'mu': mu, 'std': std}"
   ]
  },
  {
   "cell_type": "code",
   "execution_count": 79,
   "id": "d6d22a58-665e-45b6-9517-2a1d41f33472",
   "metadata": {},
   "outputs": [],
   "source": [
    "pickle.dump(algorithm, open('models/algorithm.pkl', 'wb'))"
   ]
  }
 ],
 "metadata": {
  "kernelspec": {
   "display_name": "Python 3 (ipykernel)",
   "language": "python",
   "name": "python3"
  },
  "language_info": {
   "codemirror_mode": {
    "name": "ipython",
    "version": 3
   },
   "file_extension": ".py",
   "mimetype": "text/x-python",
   "name": "python",
   "nbconvert_exporter": "python",
   "pygments_lexer": "ipython3",
   "version": "3.9.5"
  }
 },
 "nbformat": 4,
 "nbformat_minor": 5
}