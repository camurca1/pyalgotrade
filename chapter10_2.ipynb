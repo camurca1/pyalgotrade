{
 "cells": [
  {
   "cell_type": "code",
   "execution_count": 1,
   "id": "088b4a55-d5d2-4ae2-b2e8-f4c27015167f",
   "metadata": {},
   "outputs": [],
   "source": [
    "import pickle"
   ]
  },
  {
   "cell_type": "code",
   "execution_count": 2,
   "id": "c5f8bc3e-5d39-4fb9-8ec2-a8a874c71fb5",
   "metadata": {},
   "outputs": [],
   "source": [
    "algorithm = pickle.load(open('algorithm.pkl', 'rb'))"
   ]
  },
  {
   "cell_type": "code",
   "execution_count": 3,
   "id": "ae2b1951-06a6-4db7-8d39-19e6cf140c3a",
   "metadata": {},
   "outputs": [
    {
     "data": {
      "text/plain": [
       "AdaBoostClassifier(base_estimator=DecisionTreeClassifier(max_depth=2,\n",
       "                                                         min_samples_leaf=15,\n",
       "                                                         random_state=100),\n",
       "                   n_estimators=15, random_state=100)"
      ]
     },
     "execution_count": 3,
     "metadata": {},
     "output_type": "execute_result"
    }
   ],
   "source": [
    "algorithm['model']"
   ]
  },
  {
   "cell_type": "code",
   "execution_count": null,
   "id": "0a149df2-d155-4698-84b9-25c80f4a3675",
   "metadata": {},
   "outputs": [],
   "source": [
    "class MLTrader():\n",
    "    def __initi__(self, algorithm):\n",
    "        self.model = algorithm['model']\n",
    "        self.mu = algorithm['mu']\n",
    "        self.std = algorithm['std']\n",
    "        self.units = 100\n",
    "        self.position = 0\n",
    "        self.bar = '5m'\n",
    "        self.window = 20\n",
    "        self.lags = 6\n",
    "        self.min_length = self.lags + self.window +1\n",
    "        self.features = ['return', 'vol', 'mom', 'sma', 'min', 'max']\n",
    "        self.raw_data = pd.DataFrame()\n",
    "        \n",
    "    def prepare_features(self):\n",
    "        self.data['return'] = np.log(\n",
    "        "
   ]
  }
 ],
 "metadata": {
  "kernelspec": {
   "display_name": "Python 3 (ipykernel)",
   "language": "python",
   "name": "python3"
  },
  "language_info": {
   "codemirror_mode": {
    "name": "ipython",
    "version": 3
   },
   "file_extension": ".py",
   "mimetype": "text/x-python",
   "name": "python",
   "nbconvert_exporter": "python",
   "pygments_lexer": "ipython3",
   "version": "3.9.5"
  }
 },
 "nbformat": 4,
 "nbformat_minor": 5
}