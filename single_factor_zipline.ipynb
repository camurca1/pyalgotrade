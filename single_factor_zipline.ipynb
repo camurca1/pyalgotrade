{
 "cells": [
  {
   "cell_type": "code",
   "execution_count": 2,
   "outputs": [
    {
     "name": "stdout",
     "output_type": "stream",
     "text": [
      "The zipline extension is already loaded. To reload it, use:\n",
      "  %reload_ext zipline\n"
     ]
    }
   ],
   "source": [
    "%load_ext zipline"
   ],
   "metadata": {
    "collapsed": false,
    "pycharm": {
     "name": "#%%\n"
    }
   }
  },
  {
   "cell_type": "code",
   "execution_count": 20,
   "outputs": [
    {
     "ename": "TypeError",
     "evalue": "int() argument must be a string, a bytes-like object or a number, not 'NaTType'",
     "output_type": "error",
     "traceback": [
      "\u001B[1;31m---------------------------------------------------------------------------\u001B[0m",
      "\u001B[1;31mTypeError\u001B[0m                                 Traceback (most recent call last)",
      "\u001B[1;32mD:\\Temp\\tmpj64kvxo4/ipykernel_3172/514900998.py\u001B[0m in \u001B[0;36m<module>\u001B[1;34m\u001B[0m\n\u001B[0;32m      2\u001B[0m \u001B[1;32mfrom\u001B[0m \u001B[0mzipline\u001B[0m\u001B[1;33m.\u001B[0m\u001B[0mutils\u001B[0m\u001B[1;33m.\u001B[0m\u001B[0mrun_algo\u001B[0m \u001B[1;32mimport\u001B[0m \u001B[0mload_extensions\u001B[0m\u001B[1;33m\u001B[0m\u001B[1;33m\u001B[0m\u001B[0m\n\u001B[0;32m      3\u001B[0m \u001B[1;33m\u001B[0m\u001B[0m\n\u001B[1;32m----> 4\u001B[1;33m load_extensions(\n\u001B[0m\u001B[0;32m      5\u001B[0m     \u001B[0mdefault\u001B[0m\u001B[1;33m=\u001B[0m\u001B[1;32mTrue\u001B[0m\u001B[1;33m,\u001B[0m\u001B[1;33m\u001B[0m\u001B[1;33m\u001B[0m\u001B[0m\n\u001B[0;32m      6\u001B[0m     \u001B[0mextensions\u001B[0m\u001B[1;33m=\u001B[0m\u001B[1;33m[\u001B[0m\u001B[1;33m]\u001B[0m\u001B[1;33m,\u001B[0m\u001B[1;33m\u001B[0m\u001B[1;33m\u001B[0m\u001B[0m\n",
      "\u001B[1;32mD:\\Documentos\\p4t_docs\\envs\\pyalgo\\lib\\site-packages\\zipline\\utils\\run_algo.py\u001B[0m in \u001B[0;36mload_extensions\u001B[1;34m(default, extensions, strict, environ, reload)\u001B[0m\n\u001B[0;32m    287\u001B[0m                 \u001B[1;32mwith\u001B[0m \u001B[0mopen\u001B[0m\u001B[1;33m(\u001B[0m\u001B[0mext\u001B[0m\u001B[1;33m)\u001B[0m \u001B[1;32mas\u001B[0m \u001B[0mf\u001B[0m\u001B[1;33m:\u001B[0m\u001B[1;33m\u001B[0m\u001B[1;33m\u001B[0m\u001B[0m\n\u001B[0;32m    288\u001B[0m                     \u001B[0mns\u001B[0m \u001B[1;33m=\u001B[0m \u001B[1;33m{\u001B[0m\u001B[1;33m}\u001B[0m\u001B[1;33m\u001B[0m\u001B[1;33m\u001B[0m\u001B[0m\n\u001B[1;32m--> 289\u001B[1;33m                     \u001B[0mexec\u001B[0m\u001B[1;33m(\u001B[0m\u001B[0mcompile\u001B[0m\u001B[1;33m(\u001B[0m\u001B[0mf\u001B[0m\u001B[1;33m.\u001B[0m\u001B[0mread\u001B[0m\u001B[1;33m(\u001B[0m\u001B[1;33m)\u001B[0m\u001B[1;33m,\u001B[0m \u001B[0mext\u001B[0m\u001B[1;33m,\u001B[0m \u001B[1;34m\"exec\"\u001B[0m\u001B[1;33m)\u001B[0m\u001B[1;33m,\u001B[0m \u001B[0mns\u001B[0m\u001B[1;33m,\u001B[0m \u001B[0mns\u001B[0m\u001B[1;33m)\u001B[0m\u001B[1;33m\u001B[0m\u001B[1;33m\u001B[0m\u001B[0m\n\u001B[0m\u001B[0;32m    290\u001B[0m             \u001B[1;32melse\u001B[0m\u001B[1;33m:\u001B[0m\u001B[1;33m\u001B[0m\u001B[1;33m\u001B[0m\u001B[0m\n\u001B[0;32m    291\u001B[0m                 \u001B[0m__import__\u001B[0m\u001B[1;33m(\u001B[0m\u001B[0mext\u001B[0m\u001B[1;33m)\u001B[0m\u001B[1;33m\u001B[0m\u001B[1;33m\u001B[0m\u001B[0m\n",
      "\u001B[1;32m~/.zipline\\extension.py\u001B[0m in \u001B[0;36m<module>\u001B[1;34m\u001B[0m\n\u001B[0;32m      3\u001B[0m \u001B[1;32mfrom\u001B[0m \u001B[0mzipline\u001B[0m\u001B[1;33m.\u001B[0m\u001B[0mdata\u001B[0m\u001B[1;33m.\u001B[0m\u001B[0mbundles\u001B[0m \u001B[1;32mimport\u001B[0m \u001B[0mregister\u001B[0m\u001B[1;33m\u001B[0m\u001B[1;33m\u001B[0m\u001B[0m\n\u001B[0;32m      4\u001B[0m \u001B[1;32mfrom\u001B[0m \u001B[0mzipline\u001B[0m\u001B[1;33m.\u001B[0m\u001B[0mdata\u001B[0m\u001B[1;33m.\u001B[0m\u001B[0mbundles\u001B[0m\u001B[1;33m.\u001B[0m\u001B[0mcsvdir\u001B[0m \u001B[1;32mimport\u001B[0m \u001B[0mcsvdir_equities\u001B[0m\u001B[1;33m\u001B[0m\u001B[1;33m\u001B[0m\u001B[0m\n\u001B[1;32m----> 5\u001B[1;33m \u001B[1;32mfrom\u001B[0m \u001B[0mtrading_calendars\u001B[0m \u001B[1;32mimport\u001B[0m \u001B[0mregister_calendar\u001B[0m\u001B[1;33m\u001B[0m\u001B[1;33m\u001B[0m\u001B[0m\n\u001B[0m\u001B[0;32m      6\u001B[0m \u001B[1;32mfrom\u001B[0m \u001B[0mtrading_calendars\u001B[0m\u001B[1;33m.\u001B[0m\u001B[0mexchange_calendar_bvmf\u001B[0m \u001B[1;32mimport\u001B[0m \u001B[0mBVMFExchangeCalendar\u001B[0m\u001B[1;33m\u001B[0m\u001B[1;33m\u001B[0m\u001B[0m\n\u001B[0;32m      7\u001B[0m \u001B[1;33m\u001B[0m\u001B[0m\n",
      "\u001B[1;32mD:\\Documentos\\p4t_docs\\envs\\pyalgo\\lib\\site-packages\\trading_calendars\\__init__.py\u001B[0m in \u001B[0;36m<module>\u001B[1;34m\u001B[0m\n\u001B[0;32m     14\u001B[0m \u001B[1;31m# limitations under the License.\u001B[0m\u001B[1;33m\u001B[0m\u001B[1;33m\u001B[0m\u001B[1;33m\u001B[0m\u001B[0m\n\u001B[0;32m     15\u001B[0m \u001B[1;33m\u001B[0m\u001B[0m\n\u001B[1;32m---> 16\u001B[1;33m \u001B[1;32mfrom\u001B[0m \u001B[1;33m.\u001B[0m\u001B[0mtrading_calendar\u001B[0m \u001B[1;32mimport\u001B[0m \u001B[0mTradingCalendar\u001B[0m\u001B[1;33m\u001B[0m\u001B[1;33m\u001B[0m\u001B[0m\n\u001B[0m\u001B[0;32m     17\u001B[0m from .calendar_utils import (\n\u001B[0;32m     18\u001B[0m     \u001B[0mclear_calendars\u001B[0m\u001B[1;33m,\u001B[0m\u001B[1;33m\u001B[0m\u001B[1;33m\u001B[0m\u001B[0m\n",
      "\u001B[1;32mD:\\Documentos\\p4t_docs\\envs\\pyalgo\\lib\\site-packages\\trading_calendars\\trading_calendar.py\u001B[0m in \u001B[0;36m<module>\u001B[1;34m\u001B[0m\n\u001B[0;32m     31\u001B[0m \u001B[1;32mimport\u001B[0m \u001B[0mtoolz\u001B[0m\u001B[1;33m\u001B[0m\u001B[1;33m\u001B[0m\u001B[0m\n\u001B[0;32m     32\u001B[0m \u001B[1;33m\u001B[0m\u001B[0m\n\u001B[1;32m---> 33\u001B[1;33m from .calendar_helpers import (\n\u001B[0m\u001B[0;32m     34\u001B[0m     \u001B[0mNP_NAT\u001B[0m\u001B[1;33m,\u001B[0m\u001B[1;33m\u001B[0m\u001B[1;33m\u001B[0m\u001B[0m\n\u001B[0;32m     35\u001B[0m     \u001B[0mcompute_all_minutes\u001B[0m\u001B[1;33m,\u001B[0m\u001B[1;33m\u001B[0m\u001B[1;33m\u001B[0m\u001B[0m\n",
      "\u001B[1;32mD:\\Documentos\\p4t_docs\\envs\\pyalgo\\lib\\site-packages\\trading_calendars\\calendar_helpers.py\u001B[0m in \u001B[0;36m<module>\u001B[1;34m\u001B[0m\n\u001B[0;32m      4\u001B[0m \u001B[0mNANOSECONDS_PER_MINUTE\u001B[0m \u001B[1;33m=\u001B[0m \u001B[0mint\u001B[0m\u001B[1;33m(\u001B[0m\u001B[1;36m6e10\u001B[0m\u001B[1;33m)\u001B[0m\u001B[1;33m\u001B[0m\u001B[1;33m\u001B[0m\u001B[0m\n\u001B[0;32m      5\u001B[0m \u001B[1;33m\u001B[0m\u001B[0m\n\u001B[1;32m----> 6\u001B[1;33m \u001B[0mNP_NAT\u001B[0m \u001B[1;33m=\u001B[0m \u001B[0mnp\u001B[0m\u001B[1;33m.\u001B[0m\u001B[0marray\u001B[0m\u001B[1;33m(\u001B[0m\u001B[1;33m[\u001B[0m\u001B[0mpd\u001B[0m\u001B[1;33m.\u001B[0m\u001B[0mNaT\u001B[0m\u001B[1;33m]\u001B[0m\u001B[1;33m,\u001B[0m \u001B[0mdtype\u001B[0m\u001B[1;33m=\u001B[0m\u001B[0mnp\u001B[0m\u001B[1;33m.\u001B[0m\u001B[0mint64\u001B[0m\u001B[1;33m)\u001B[0m\u001B[1;33m[\u001B[0m\u001B[1;36m0\u001B[0m\u001B[1;33m]\u001B[0m\u001B[1;33m\u001B[0m\u001B[1;33m\u001B[0m\u001B[0m\n\u001B[0m\u001B[0;32m      7\u001B[0m \u001B[1;33m\u001B[0m\u001B[0m\n\u001B[0;32m      8\u001B[0m \u001B[1;33m\u001B[0m\u001B[0m\n",
      "\u001B[1;31mTypeError\u001B[0m: int() argument must be a string, a bytes-like object or a number, not 'NaTType'"
     ]
    }
   ],
   "source": [
    "import os\n",
    "from zipline.utils.run_algo import load_extensions\n",
    "\n",
    "load_extensions(\n",
    "    default=True,\n",
    "    extensions=[],\n",
    "    strict=True,\n",
    "    environ=os.environ\n",
    ")"
   ],
   "metadata": {
    "collapsed": false,
    "pycharm": {
     "name": "#%%\n"
    }
   }
  },
  {
   "cell_type": "code",
   "execution_count": 19,
   "outputs": [
    {
     "name": "stdout",
     "output_type": "stream",
     "text": [
      "Merging daily equity files:\n",
      "Loading custom pricing data: \n",
      " | AALR3: sid 0\n",
      " | AALR3F: sid 1\n"
     ]
    },
    {
     "name": "stderr",
     "output_type": "stream",
     "text": [
      "[2021-11-27 01:11:59.154057] INFO: zipline.data.bundles.core: Ingesting custom-csvdir-bundle.\n",
      "Traceback (most recent call last):\n",
      "  File \"D:\\Documentos\\p4t_docs\\envs\\pyalgo\\Scripts\\zipline-script.py\", line 10, in <module>\n",
      "    sys.exit(main())\n",
      "  File \"D:\\Documentos\\p4t_docs\\envs\\pyalgo\\lib\\site-packages\\click\\core.py\", line 1128, in __call__\n",
      "    return self.main(*args, **kwargs)\n",
      "  File \"D:\\Documentos\\p4t_docs\\envs\\pyalgo\\lib\\site-packages\\click\\core.py\", line 1053, in main\n",
      "    rv = self.invoke(ctx)\n",
      "  File \"D:\\Documentos\\p4t_docs\\envs\\pyalgo\\lib\\site-packages\\click\\core.py\", line 1659, in invoke\n",
      "    return _process_result(sub_ctx.command.invoke(sub_ctx))\n",
      "  File \"D:\\Documentos\\p4t_docs\\envs\\pyalgo\\lib\\site-packages\\click\\core.py\", line 1395, in invoke\n",
      "    return ctx.invoke(self.callback, **ctx.params)\n",
      "  File \"D:\\Documentos\\p4t_docs\\envs\\pyalgo\\lib\\site-packages\\click\\core.py\", line 754, in invoke\n",
      "    return __callback(*args, **kwargs)\n",
      "  File \"D:\\Documentos\\p4t_docs\\envs\\pyalgo\\lib\\site-packages\\zipline\\__main__.py\", line 389, in ingest\n",
      "    bundles_module.ingest(\n",
      "  File \"D:\\Documentos\\p4t_docs\\envs\\pyalgo\\lib\\site-packages\\zipline\\data\\bundles\\core.py\", line 445, in ingest\n",
      "    bundle.ingest(\n",
      "  File \"D:\\Documentos\\p4t_docs\\envs\\pyalgo\\lib\\site-packages\\zipline\\data\\bundles\\csvdir.py\", line 84, in ingest\n",
      "    csvdir_bundle(\n",
      "  File \"D:\\Documentos\\p4t_docs\\envs\\pyalgo\\lib\\site-packages\\zipline\\data\\bundles\\csvdir.py\", line 171, in csvdir_bundle\n",
      "    writer.write(\n",
      "  File \"D:\\Documentos\\p4t_docs\\envs\\pyalgo\\lib\\site-packages\\zipline\\data\\bcolz_daily_bars.py\", line 209, in write\n",
      "    return self._write_internal(it, assets)\n",
      "  File \"D:\\Documentos\\p4t_docs\\envs\\pyalgo\\lib\\site-packages\\zipline\\data\\bcolz_daily_bars.py\", line 308, in _write_internal\n",
      "    assert len(table) == len(asset_sessions), (\n",
      "AssertionError: Got 1244 rows for daily bars table with first day=2016-10-28, last day=2021-11-25, expected 1254 rows.\n",
      "Missing sessions: [Timestamp('2016-11-22 00:00:00+0000', tz='UTC'), Timestamp('2016-11-24 00:00:00+0000', tz='UTC'), Timestamp('2016-12-05 00:00:00+0000', tz='UTC'), Timestamp('2017-01-02 00:00:00+0000', tz='UTC'), Timestamp('2017-01-17 00:00:00+0000', tz='UTC'), Timestamp('2017-04-07 00:00:00+0000', tz='UTC'), Timestamp('2018-01-16 00:00:00+0000', tz='UTC'), Timestamp('2018-05-09 00:00:00+0000', tz='UTC'), Timestamp('2018-06-25 00:00:00+0000', tz='UTC'), Timestamp('2018-08-28 00:00:00+0000', tz='UTC')]\n",
      "Extra sessions: []\n"
     ]
    }
   ],
   "source": [
    "!zipline ingest -b custom-csvdir-bundle"
   ],
   "metadata": {
    "collapsed": false,
    "pycharm": {
     "name": "#%%\n"
    }
   }
  },
  {
   "cell_type": "code",
   "execution_count": 25,
   "outputs": [
    {
     "data": {
      "text/plain": "'1.3.4'"
     },
     "execution_count": 25,
     "metadata": {},
     "output_type": "execute_result"
    }
   ],
   "source": [
    "import pandas as pd\n",
    "pd.__version__\n",
    "\n",
    "# 2020-11-20,10.81,10.91,10.71,10.74,192100,0.0,0.0"
   ],
   "metadata": {
    "collapsed": false,
    "pycharm": {
     "name": "#%%\n"
    }
   }
  },
  {
   "cell_type": "code",
   "execution_count": 20,
   "outputs": [],
   "source": [
    "import exchange_calendars as xcals\n",
    "bmf = xcals.get_calendar('BVMF')\n",
    "start, end = '2000-01-01', '2021-11-25'"
   ],
   "metadata": {
    "collapsed": false,
    "pycharm": {
     "name": "#%%\n"
    }
   }
  },
  {
   "cell_type": "code",
   "execution_count": 23,
   "outputs": [
    {
     "data": {
      "text/plain": "DatetimeIndex(['2001-11-27 00:00:00+00:00', '2001-11-28 00:00:00+00:00',\n               '2001-11-29 00:00:00+00:00', '2001-11-30 00:00:00+00:00',\n               '2001-12-03 00:00:00+00:00', '2001-12-04 00:00:00+00:00',\n               '2001-12-05 00:00:00+00:00', '2001-12-06 00:00:00+00:00',\n               '2001-12-07 00:00:00+00:00', '2001-12-10 00:00:00+00:00',\n               ...\n               '2021-11-11 00:00:00+00:00', '2021-11-12 00:00:00+00:00',\n               '2021-11-16 00:00:00+00:00', '2021-11-17 00:00:00+00:00',\n               '2021-11-18 00:00:00+00:00', '2021-11-19 00:00:00+00:00',\n               '2021-11-22 00:00:00+00:00', '2021-11-23 00:00:00+00:00',\n               '2021-11-24 00:00:00+00:00', '2021-11-25 00:00:00+00:00'],\n              dtype='datetime64[ns, UTC]', length=4949, freq='C')"
     },
     "execution_count": 23,
     "metadata": {},
     "output_type": "execute_result"
    }
   ],
   "source": [
    "schedule = bmf.schedule.loc[start:end]\n",
    "schedule.index"
   ],
   "metadata": {
    "collapsed": false,
    "pycharm": {
     "name": "#%%\n"
    }
   }
  }
 ],
 "metadata": {
  "kernelspec": {
   "display_name": "Python 3",
   "language": "python",
   "name": "python3"
  },
  "language_info": {
   "codemirror_mode": {
    "name": "ipython",
    "version": 2
   },
   "file_extension": ".py",
   "mimetype": "text/x-python",
   "name": "python",
   "nbconvert_exporter": "python",
   "pygments_lexer": "ipython2",
   "version": "2.7.6"
  }
 },
 "nbformat": 4,
 "nbformat_minor": 0
}