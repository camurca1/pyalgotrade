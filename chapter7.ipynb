{
 "cells": [
  {
   "cell_type": "code",
   "execution_count": 2,
   "id": "3774c2a0-5729-47b1-af8a-5c2c619d6193",
   "metadata": {},
   "outputs": [],
   "source": [
    "import zmq\n",
    "import math\n",
    "import time\n",
    "import random"
   ]
  },
  {
   "cell_type": "code",
   "execution_count": 3,
   "id": "6a0d5f03-15db-4169-af50-23a19b2b85a7",
   "metadata": {},
   "outputs": [
    {
     "data": {
      "text/plain": [
       "<SocketContext(bind='tcp://0.0.0.0:5555')>"
      ]
     },
     "execution_count": 3,
     "metadata": {},
     "output_type": "execute_result"
    }
   ],
   "source": [
    "context = zmq.Context()\n",
    "socket = context.socket(zmq.PUB)\n",
    "socket.bind('tcp://0.0.0.0:5555')"
   ]
  },
  {
   "cell_type": "code",
   "execution_count": 4,
   "id": "0a4ea2a0-9926-4bf1-92e3-b212ed8567b5",
   "metadata": {},
   "outputs": [],
   "source": [
    "class InstrumentPrice(object):\n",
    "    \n",
    "    def __init__(self):\n",
    "        self.symbol = 'SYMBOL'\n",
    "        self.t = time.time()\n",
    "        self.value = 100.\n",
    "        self.sigma = 0.4\n",
    "        self.r = 0.01\n",
    "    \n",
    "    def simulate_value(self):\n",
    "        ''' Generates a new, random stock price.\n",
    "        '''\n",
    "        t = time.time()\n",
    "        dt = (t - self.t) / (252 * 8 * 60 * 60)\n",
    "        dt *= 500\n",
    "        self.t = t\n",
    "        self.value *= math.exp((self.r - 0.5 * self.sigma ** 2) * dt + \n",
    "                               self.sigma * math.sqrt(dt) * random.gauss(0, 1))\n",
    "        return self.value"
   ]
  },
  {
   "cell_type": "code",
   "execution_count": 5,
   "id": "f485f1a2-f1fd-47c4-81ee-bab1c652a903",
   "metadata": {},
   "outputs": [],
   "source": [
    "ip = InstrumentPrice()"
   ]
  },
  {
   "cell_type": "code",
   "execution_count": 6,
   "id": "a47bd119-4270-4922-9a35-f17cc5318678",
   "metadata": {},
   "outputs": [
    {
     "name": "stdout",
     "output_type": "stream",
     "text": [
      "SYMBOL 99.51\n",
      "SYMBOL 99.54\n",
      "SYMBOL 99.12\n",
      "SYMBOL 99.47\n",
      "SYMBOL 99.35\n",
      "SYMBOL 99.36\n",
      "SYMBOL 99.66\n",
      "SYMBOL 99.58\n",
      "SYMBOL 99.49\n",
      "SYMBOL 99.33\n",
      "SYMBOL 99.23\n",
      "SYMBOL 98.76\n",
      "SYMBOL 98.88\n",
      "SYMBOL 99.33\n",
      "SYMBOL 99.18\n",
      "SYMBOL 98.86\n",
      "SYMBOL 99.32\n",
      "SYMBOL 99.25\n",
      "SYMBOL 99.09\n",
      "SYMBOL 99.46\n",
      "SYMBOL 99.17\n",
      "SYMBOL 99.31\n",
      "SYMBOL 98.79\n",
      "SYMBOL 98.53\n",
      "SYMBOL 98.83\n",
      "SYMBOL 98.88\n",
      "SYMBOL 99.32\n",
      "SYMBOL 98.68\n",
      "SYMBOL 98.59\n",
      "SYMBOL 99.11\n",
      "SYMBOL 99.05\n",
      "SYMBOL 99.26\n",
      "SYMBOL 99.46\n",
      "SYMBOL 99.36\n",
      "SYMBOL 99.61\n",
      "SYMBOL 99.72\n",
      "SYMBOL 99.27\n",
      "SYMBOL 99.67\n",
      "SYMBOL 99.57\n",
      "SYMBOL 99.60\n",
      "SYMBOL 99.57\n",
      "SYMBOL 98.74\n",
      "SYMBOL 98.78\n",
      "SYMBOL 98.84\n",
      "SYMBOL 98.93\n",
      "SYMBOL 99.45\n",
      "SYMBOL 99.38\n",
      "SYMBOL 99.13\n",
      "SYMBOL 98.49\n",
      "SYMBOL 98.15\n",
      "SYMBOL 98.37\n",
      "SYMBOL 97.22\n",
      "SYMBOL 97.48\n",
      "SYMBOL 97.50\n",
      "SYMBOL 97.26\n",
      "SYMBOL 97.30\n",
      "SYMBOL 97.11\n",
      "SYMBOL 97.01\n",
      "SYMBOL 96.85\n",
      "SYMBOL 96.41\n",
      "SYMBOL 96.38\n",
      "SYMBOL 96.29\n",
      "SYMBOL 95.81\n",
      "SYMBOL 95.88\n",
      "SYMBOL 95.92\n",
      "SYMBOL 95.90\n",
      "SYMBOL 96.32\n",
      "SYMBOL 96.35\n",
      "SYMBOL 96.28\n",
      "SYMBOL 96.46\n",
      "SYMBOL 95.95\n",
      "SYMBOL 95.72\n",
      "SYMBOL 95.72\n",
      "SYMBOL 95.85\n",
      "SYMBOL 96.39\n",
      "SYMBOL 96.32\n",
      "SYMBOL 96.40\n",
      "SYMBOL 96.98\n",
      "SYMBOL 96.89\n",
      "SYMBOL 96.15\n",
      "SYMBOL 96.76\n",
      "SYMBOL 96.75\n",
      "SYMBOL 96.83\n",
      "SYMBOL 96.76\n",
      "SYMBOL 96.79\n",
      "SYMBOL 96.62\n",
      "SYMBOL 95.81\n",
      "SYMBOL 95.37\n",
      "SYMBOL 95.32\n",
      "SYMBOL 95.42\n",
      "SYMBOL 95.60\n",
      "SYMBOL 95.89\n",
      "SYMBOL 95.98\n",
      "SYMBOL 95.90\n",
      "SYMBOL 95.95\n",
      "SYMBOL 96.27\n",
      "SYMBOL 96.51\n",
      "SYMBOL 96.71\n",
      "SYMBOL 97.72\n",
      "SYMBOL 98.13\n",
      "SYMBOL 97.79\n",
      "SYMBOL 97.65\n",
      "SYMBOL 98.23\n",
      "SYMBOL 98.51\n",
      "SYMBOL 98.47\n",
      "SYMBOL 98.05\n",
      "SYMBOL 98.06\n",
      "SYMBOL 97.19\n",
      "SYMBOL 97.23\n",
      "SYMBOL 97.35\n",
      "SYMBOL 97.33\n"
     ]
    },
    {
     "ename": "KeyboardInterrupt",
     "evalue": "",
     "output_type": "error",
     "traceback": [
      "\u001b[0;31m---------------------------------------------------------------------------\u001b[0m",
      "\u001b[0;31mKeyboardInterrupt\u001b[0m                         Traceback (most recent call last)",
      "\u001b[0;32m/tmp/ipykernel_12434/196278331.py\u001b[0m in \u001b[0;36m<module>\u001b[0;34m\u001b[0m\n\u001b[1;32m      3\u001b[0m     \u001b[0mprint\u001b[0m\u001b[0;34m(\u001b[0m\u001b[0mmsg\u001b[0m\u001b[0;34m)\u001b[0m\u001b[0;34m\u001b[0m\u001b[0;34m\u001b[0m\u001b[0m\n\u001b[1;32m      4\u001b[0m     \u001b[0msocket\u001b[0m\u001b[0;34m.\u001b[0m\u001b[0msend_string\u001b[0m\u001b[0;34m(\u001b[0m\u001b[0mmsg\u001b[0m\u001b[0;34m)\u001b[0m\u001b[0;34m\u001b[0m\u001b[0;34m\u001b[0m\u001b[0m\n\u001b[0;32m----> 5\u001b[0;31m     \u001b[0mtime\u001b[0m\u001b[0;34m.\u001b[0m\u001b[0msleep\u001b[0m\u001b[0;34m(\u001b[0m\u001b[0mrandom\u001b[0m\u001b[0;34m.\u001b[0m\u001b[0mrandom\u001b[0m\u001b[0;34m(\u001b[0m\u001b[0;34m)\u001b[0m \u001b[0;34m*\u001b[0m \u001b[0;36m2\u001b[0m\u001b[0;34m)\u001b[0m\u001b[0;34m\u001b[0m\u001b[0;34m\u001b[0m\u001b[0m\n\u001b[0m",
      "\u001b[0;31mKeyboardInterrupt\u001b[0m: "
     ]
    }
   ],
   "source": [
    "while True:\n",
    "    msg = '{} {:.2f}'.format(ip.symbol, ip.simulate_value())\n",
    "    print(msg)\n",
    "    socket.send_string(msg)\n",
    "    time.sleep(random.random() * 2)"
   ]
  },
  {
   "cell_type": "code",
   "execution_count": 8,
   "id": "be336e9c-64ea-4bb2-b214-368a5d593eb6",
   "metadata": {},
   "outputs": [],
   "source": [
    "socket.close()"
   ]
  }
 ],
 "metadata": {
  "kernelspec": {
   "display_name": "Python 3 (ipykernel)",
   "language": "python",
   "name": "python3"
  },
  "language_info": {
   "codemirror_mode": {
    "name": "ipython",
    "version": 3
   },
   "file_extension": ".py",
   "mimetype": "text/x-python",
   "name": "python",
   "nbconvert_exporter": "python",
   "pygments_lexer": "ipython3",
   "version": "3.9.5"
  }
 },
 "nbformat": 4,
 "nbformat_minor": 5
}
